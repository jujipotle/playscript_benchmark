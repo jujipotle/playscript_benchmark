{
 "cells": [
  {
   "cell_type": "code",
   "execution_count": 24,
   "metadata": {},
   "outputs": [],
   "source": [
    "import pandas as pd\n",
    "import ast\n",
    "\n",
    "emotion_metrics_path = \"data/emotion_metrics.csv\"\n",
    "emotions = [\"happiness\", \"sadness\", \"anger\", \"fear\", \"disgust\", \"surprise\"]\n",
    "data = pd.read_csv(emotion_metrics_path)"
   ]
  },
  {
   "cell_type": "code",
   "execution_count": 42,
   "metadata": {},
   "outputs": [],
   "source": [
    "def get_sorted_dialogues(emotion_scores, dialogues, extract_k):\n",
    "    # Pair scores with dialogues\n",
    "    paired = list(zip(emotion_scores, dialogues))\n",
    "\n",
    "    # Sort pairs by score\n",
    "    sorted_pairs = sorted(paired, key=lambda x: x[0])\n",
    "\n",
    "    # Get the top and bottom 5\n",
    "    top_k = sorted_pairs[-extract_k:]\n",
    "    bottom_k = sorted_pairs[:extract_k]\n",
    "\n",
    "    return top_k, bottom_k"
   ]
  },
  {
   "cell_type": "code",
   "execution_count": 43,
   "metadata": {},
   "outputs": [],
   "source": [
    "# Iterate through the rows in the DataFrame\n",
    "all_dialogues = []\n",
    "all_scores = {emotion: [] for emotion in emotions}\n",
    "\n",
    "for index, row in data.iterrows():\n",
    "    alice_dialogues = ast.literal_eval(row['alice_dialogues'])\n",
    "    bob_dialogues = ast.literal_eval(row['bob_dialogues'])\n",
    "    alice_emotion_scores = ast.literal_eval(row['alice_emotion_scores'])\n",
    "    bob_emotion_scores = ast.literal_eval(row['bob_emotion_scores'])\n",
    "    for i, dialogue in enumerate(alice_dialogues):\n",
    "        all_dialogues.append(dialogue)\n",
    "        for emotion in emotions:\n",
    "            all_scores[emotion].append(alice_emotion_scores[emotion][i])\n",
    "    for i, dialogue in enumerate(bob_dialogues):\n",
    "        all_dialogues.append(dialogue)\n",
    "        for emotion in emotions:\n",
    "            all_scores[emotion].append(bob_emotion_scores[emotion][i])"
   ]
  },
  {
   "cell_type": "code",
   "execution_count": 44,
   "metadata": {},
   "outputs": [
    {
     "name": "stdout",
     "output_type": "stream",
     "text": [
      "\n",
      "\n",
      "happiness\n",
      "2 highest happiness scores:\n",
      "27.8: You were the one who spotted that meteor shower, and we got to watch it up close.\n",
      "25.8: Your music is more than just a hobby or a job – it's a calling.\n",
      "2 lowest happiness scores:\n",
      "-27.8: But the drought led to widespread famine, which weakened their military and economy.\n",
      "-27.2: Our infantry is outnumbered, and the enemy's terrain gives them a significant advantage.\n",
      "\n",
      "\n",
      "sadness\n",
      "2 highest sadness scores:\n",
      "30.5: The music is ethereal and dreamy, it demands a soft, flowing quality.\n",
      "28.2: Yes, but its significance goes beyond mere historical value, it holds the secrets of a forgotten art.\n",
      "2 lowest sadness scores:\n",
      "-18.7: Okay, but did your guy try to convince you to take a detour to his ex's house to yell at her?\n",
      "-17.7: Actually, I do have a friend who struggles with depression and she thought it was hilarious.\n",
      "\n",
      "\n",
      "anger\n",
      "2 highest anger scores:\n",
      "22.5: I've been stuck in a dead-end job for five years, feeling like I'm just going through the motions.\n",
      "22.2: For me, it's the way people feel entitled to know every detail about my life.\n",
      "2 lowest anger scores:\n",
      "-19.2: The trees are shedding their leaves, it's a beautiful sight.\n",
      "-18.1: The forest floor will be carpeted with crunchy leaves, perfect for foraging.\n",
      "\n",
      "\n",
      "fear\n",
      "2 highest fear scores:\n",
      "19.2: What do I do if I get swept overboard?\n",
      "18.2: I'm afraid so, Alice. The tests came back positive for stage three lymphoma.\n",
      "2 lowest fear scores:\n",
      "-19.0: The ruffles on this dress are completely unnecessary.\n",
      "-18.1: They're probably just decorative, not some hidden code waiting to be deciphered.\n",
      "\n",
      "\n",
      "disgust\n",
      "2 highest disgust scores:\n",
      "18.8: The pollution from this factory will devastate our local ecosystem.\n",
      "17.9: And that crazy diner we found in the middle of nowhere, with the world's worst coffee.\n",
      "2 lowest disgust scores:\n",
      "-13.8: We've seen significant increases in crop yields and disease resistance, and the risk of unintended consequences is minimal.\n",
      "-13.4: It's a reminder that life is cyclical, always changing.\n",
      "\n",
      "\n",
      "surprise\n",
      "2 highest surprise scores:\n",
      "27.7: You were the one who spotted that meteor shower, and we got to watch it up close.\n",
      "25.3: We should go on a treasure hunt in the backyard!\n",
      "2 lowest surprise scores:\n",
      "-19.2: Quality of life is irrelevant if the patient doesn't survive the night, we need to act fast.\n",
      "-19.0: Maybe not, but that doesn't mean I have to cater to everyone's feelings.\n"
     ]
    }
   ],
   "source": [
    "# Process each emotion\n",
    "for emotion in emotions:\n",
    "    print(f\"\\n\\n{emotion}\")\n",
    "    # Get sorted dialogues for the current emotion\n",
    "    top_2, bottom_2 = get_sorted_dialogues(all_scores[emotion], all_dialogues, 2)\n",
    "    \n",
    "    # Print the 5 highest scoring dialogues\n",
    "    print(f\"2 highest {emotion} scores:\")\n",
    "    for score, dialogue in reversed(top_2):\n",
    "        print(f\"{round(score, 1)}: {dialogue}\")\n",
    "    \n",
    "    # Print the 5 lowest scoring dialogues\n",
    "    print(f\"2 lowest {emotion} scores:\")\n",
    "    for score, dialogue in bottom_2:\n",
    "        print(f\"{round(score, 1)}: {dialogue}\")"
   ]
  },
  {
   "cell_type": "code",
   "execution_count": null,
   "metadata": {},
   "outputs": [],
   "source": []
  }
 ],
 "metadata": {
  "kernelspec": {
   "display_name": "rep_eng_retry_kernel",
   "language": "python",
   "name": "rep_eng_retry_kernel"
  },
  "language_info": {
   "codemirror_mode": {
    "name": "ipython",
    "version": 3
   },
   "file_extension": ".py",
   "mimetype": "text/x-python",
   "name": "python",
   "nbconvert_exporter": "python",
   "pygments_lexer": "ipython3",
   "version": "3.10.13"
  }
 },
 "nbformat": 4,
 "nbformat_minor": 2
}
