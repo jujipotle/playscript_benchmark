{
 "cells": [
  {
   "cell_type": "code",
   "execution_count": 1,
   "metadata": {},
   "outputs": [],
   "source": [
    "import csv\n",
    "import json\n",
    "import os\n",
    "import sys\n",
    "import importlib\n",
    "import random\n",
    "import ast\n",
    "import pandas as pd\n",
    "\n",
    "sys.path.append('../')\n",
    "if 'playscript_utils' in sys.modules:\n",
    "    importlib.reload(sys.modules['playscript_utils'])\n",
    "else:\n",
    "    import playscript_utils\n",
    "from playscript_utils import model_name_dict, emotions, filter_csv_by_columns, chat_template"
   ]
  },
  {
   "cell_type": "code",
   "execution_count": 2,
   "metadata": {},
   "outputs": [],
   "source": [
    "def read_rep_e_data(rep_e_data_path, probing_data_path, emotions):\n",
    "    # Open the CSV file for writing\n",
    "    with open(probing_data_path, mode='w', newline='') as file:\n",
    "        writer = csv.writer(file)\n",
    "        # Write the header\n",
    "        writer.writerow([\"probing_dataset\", \"emotion\", \"text_example\", \"character\"])\n",
    "        \n",
    "        # Iterate over each emotion and corresponding JSON file\n",
    "        for emotion in emotions:\n",
    "            json_path = os.path.join(rep_e_data_path, f\"{emotion}.json\")\n",
    "            \n",
    "            # Read the JSON file\n",
    "            with open(json_path, 'r') as json_file:\n",
    "                text_examples = json.load(json_file)\n",
    "                \n",
    "                # Write each text example to the CSV file\n",
    "                for example in text_examples:\n",
    "                    writer.writerow([\"rep_e\", emotion, example, \"None\"])\n"
   ]
  },
  {
   "cell_type": "code",
   "execution_count": 3,
   "metadata": {},
   "outputs": [],
   "source": [
    "def clean_custom_emotion_data(raw_data_path, cleaned_data_path, emotions):\n",
    "    for emotion in emotions:\n",
    "        raw_data_emotion_file_path = f\"{raw_data_path}{emotion}.txt\"\n",
    "        cleaned_data_emotion_file_path = f\"{cleaned_data_path}{emotion}.csv\"\n",
    "        with open(raw_data_emotion_file_path, 'r') as txt_file, open(cleaned_data_emotion_file_path, 'w', newline='') as csv_file:\n",
    "            writer = csv.writer(csv_file)\n",
    "            writer.writerow([\"probing_dataset\", \"emotion\", \"text_example\"])\n",
    "            for line in txt_file:\n",
    "                if line[0].isdigit():\n",
    "                    cleaned_line = line.split(maxsplit=1)[1].strip().strip('\"“”')\n",
    "                else:\n",
    "                    cleaned_line = line.strip().strip('\"“”')\n",
    "                writer.writerow([\"custom\", emotion, cleaned_line, \"None\"])\n"
   ]
  },
  {
   "cell_type": "code",
   "execution_count": 4,
   "metadata": {},
   "outputs": [],
   "source": [
    "def combine_custom_cleaned_data(cleaned_data_path, probing_data_path, emotions):\n",
    "    for emotion in emotions:\n",
    "        cleaned_data_emotion_file_path = f\"{cleaned_data_path}{emotion}.csv\"\n",
    "        with open(cleaned_data_emotion_file_path, 'r') as cleaned_data_emotion_file, open(probing_data_path, 'a', newline='') as probing_data_file:\n",
    "            reader = csv.reader(cleaned_data_emotion_file)\n",
    "            writer = csv.writer(probing_data_file)\n",
    "            next(reader)  # Skip the header\n",
    "            rows = list(reader)\n",
    "            for row in rows:\n",
    "                writer.writerow(row)"
   ]
  },
  {
   "cell_type": "code",
   "execution_count": 5,
   "metadata": {},
   "outputs": [],
   "source": [
    "def read_playscript_data(generated_playscripts_path, probing_data_path, premise_type, train_or_test):\n",
    "    filtered_df = filter_csv_by_columns(generated_playscripts_path, {\"premise_type\": premise_type})\n",
    "    with open(probing_data_path, 'a', newline='') as probing_data_file:\n",
    "        writer = csv.writer(probing_data_file)\n",
    "        \n",
    "        for index, row in filtered_df.iterrows():\n",
    "            dialogues = ast.literal_eval(row['dialogues'])\n",
    "            alice_emotion = row['alice_emotion']\n",
    "            bob_emotion = row['bob_emotion']\n",
    "            for i, dialogue in enumerate(dialogues):\n",
    "                if i % 2 == 0 and alice_emotion != \"generic\":\n",
    "                    writer.writerow([f\"playscript_{premise_type}_{train_or_test}\", alice_emotion, dialogue, \"Alice\"])\n",
    "                if i % 2 == 1 and bob_emotion != \"generic\":\n",
    "                    writer.writerow([f\"playscript_{premise_type}_{train_or_test}\", bob_emotion, dialogue, \"Bob\"])"
   ]
  },
  {
   "cell_type": "code",
   "execution_count": 6,
   "metadata": {},
   "outputs": [],
   "source": [
    "def combine_non_playscript_data(probing_data_path):\n",
    "    rep_e_filtered_df = filter_csv_by_columns(probing_data_path, {\"probing_dataset\": \"rep_e\"})\n",
    "    custom_filtered_df = filter_csv_by_columns(probing_data_path, {\"probing_dataset\": \"custom\"})\n",
    "    playscript_train_filtered_df = filter_csv_by_columns(probing_data_path, {\"probing_dataset\": \"playscript_neutral_train\"})\n",
    "    combined_non_test_df = pd.concat([rep_e_filtered_df, custom_filtered_df, playscript_train_filtered_df])\n",
    "    combined_non_test_df['probing_dataset'] = 'combined_non_test'\n",
    "    combined_non_test_df.to_csv(probing_data_path, mode='a', header=False, index=False)"
   ]
  },
  {
   "cell_type": "code",
   "execution_count": 7,
   "metadata": {},
   "outputs": [],
   "source": [
    "probing_data_path = \"../data/permanent/emotion_probing_data.csv\"\n",
    "rep_e_data_path = \"../representation-engineering/data/emotions/\"\n",
    "custom_raw_data_path = \"../data/permanent/raw_probing_data/\"\n",
    "custom_cleaned_data_path = \"../data/permanent/cleaned_probing_data/\"\n",
    "generated_playscripts_path = \"../data/permanent/generated_playscripts.csv\"\n",
    "generated_playscripts_train_path = \"../data/permanent/generated_playscripts_train.csv\"\n",
    "read_rep_e_data(rep_e_data_path, probing_data_path, emotions)\n",
    "clean_custom_emotion_data(custom_raw_data_path, custom_cleaned_data_path, emotions)\n",
    "combine_custom_cleaned_data(custom_cleaned_data_path, probing_data_path, emotions)\n",
    "read_playscript_data(generated_playscripts_train_path, probing_data_path, \"neutral\", \"train\")\n",
    "read_playscript_data(generated_playscripts_path, probing_data_path, \"neutral\", \"test\")\n",
    "combine_non_playscript_data(probing_data_path)"
   ]
  },
  {
   "cell_type": "code",
   "execution_count": null,
   "metadata": {},
   "outputs": [],
   "source": []
  }
 ],
 "metadata": {
  "kernelspec": {
   "display_name": "rep_eng_python",
   "language": "python",
   "name": "rep_eng_python"
  },
  "language_info": {
   "codemirror_mode": {
    "name": "ipython",
    "version": 3
   },
   "file_extension": ".py",
   "mimetype": "text/x-python",
   "name": "python",
   "nbconvert_exporter": "python",
   "pygments_lexer": "ipython3",
   "version": "3.9.19"
  }
 },
 "nbformat": 4,
 "nbformat_minor": 2
}
