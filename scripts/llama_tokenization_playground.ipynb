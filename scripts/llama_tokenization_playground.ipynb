{
 "cells": [
  {
   "cell_type": "code",
   "execution_count": null,
   "metadata": {},
   "outputs": [],
   "source": [
    "\n",
    "from transformers import AutoTokenizer\n",
    "llama3p1_tokenizer = AutoTokenizer.from_pretrained(model_name_dict[\"llama3p1_8b_instruct\"])\n",
    "llama3_tokenizer = AutoTokenizer.from_pretrained(model_name_dict[\"llama3_8b_instruct\"])\n",
    "llama2_tokenizer = AutoTokenizer.from_pretrained(model_name_dict[\"llama2_13b_chat\"])\n",
    "llama3p1_model = AutoModelForCausalLM.from_pretrained(model_name_dict[\"llama3p1_8b_instruct\"])\n",
    "chat = [\n",
    "    {\"role\": \"system\", \"content\": \"You are a helpful AI assistant.\"},\n",
    "    {\"role\": \"user\", \"content\": \"Why is the sky blue?\"},\n",
    "    {\"role\": \"assistant\", \"content\": \"It's because of light refractions.\"},\n",
    "    {\"role\": \"user\", \"content\": \"Can you explain more?\"}\n",
    "]\n",
    "\n",
    "llama3p1_text = llama3p1_tokenizer.apply_chat_template(chat, tokenize=False)\n",
    "llama3_text = llama3_tokenizer.apply_chat_template(chat, tokenize=False)\n",
    "llama2_text = llama2_tokenizer.apply_chat_template(chat, tokenize=False)"
   ]
  }
 ],
 "metadata": {
  "language_info": {
   "name": "python"
  }
 },
 "nbformat": 4,
 "nbformat_minor": 2
}
