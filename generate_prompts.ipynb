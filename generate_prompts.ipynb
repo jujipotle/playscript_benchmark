{
 "cells": [
  {
   "cell_type": "code",
   "execution_count": 36,
   "metadata": {},
   "outputs": [],
   "source": [
    "prefix = \"Generate a playscript between two characters, with around 6-10 dialogues, so around 3-5 dialogues per character. Write the playscript using the given premise. Here are a few examples:\""
   ]
  },
  {
   "cell_type": "code",
   "execution_count": 37,
   "metadata": {},
   "outputs": [],
   "source": [
    "suffix = \"Now, generate a playscript based on the following premise:\""
   ]
  },
  {
   "cell_type": "code",
   "execution_count": null,
   "metadata": {},
   "outputs": [],
   "source": [
    "# Character traits\n",
    "# Humor, sarcasm, compassion, optimism, honesty, boldness, etc."
   ]
  },
  {
   "cell_type": "code",
   "execution_count": 43,
   "metadata": {},
   "outputs": [],
   "source": [
    "train_premises = [\n",
    "    \"Two employees at a coffee shop gossip about a new hire's first day on the job.\",\n",
    "    \"Two Shakespeare-esque characters declaim their love to one another.\",\n",
    "    \"A human and their robot assistant argue about the best way to clean their home.\",\n",
    "    \"Two friends reunite after years apart and discuss how their lives have changed.\",\n",
    "    \"A detective interrogates a suspect about a mysterious event.\",\n",
    "    \"Two astronauts on a space mission debate the best course of action after encountering an unknown phenomenon.\",\n",
    "    \"A student and a teacher discuss the student's future career plans.\",\n",
    "    \"Two rival chefs in a cooking competition trash-talk each other's dishes.\",\n",
    "    \"A superhero and a supervillain discuss their ideological differences while in the middle of a battle.\",\n",
    "    \"Two elderly neighbors reflect on the changes in their neighborhood over the decades.\"\n",
    "]\n",
    "test_premises = [\n",
    "    \"Two rivals in a political campaign debate their policies during a televised interview.\",\n",
    "    \"A pair of pirates argue over the best route to find buried treasure.\",\n",
    "    \"Two high school students discuss their strategies for passing a challenging exam.\",\n",
    "    \"An artist and a critic argue about the meaning of a controversial painting.\",\n",
    "    \"Two neighbors dispute over a boundary line between their properties.\",\n",
    "    \"A parent and a teenager negotiate curfew times.\",\n",
    "    \"Two old friends reminisce about a wild adventure from their youth.\",\n",
    "    \"A scientist and a journalist discuss the implications of a new discovery.\",\n",
    "    \"Two hikers get lost in the woods and try to find their way back to the trail.\",\n",
    "    \"A magician and their apprentice plan a new magic trick for a big show.\",\n",
    "    \"Two sports fans argue over which team is the greatest of all time.\",\n",
    "    \"A novelist and their editor debate changes to a manuscript.\",\n",
    "    \"Two strangers meet at a bus stop and share their life stories.\",\n",
    "    \"An inventor and a potential investor discuss a groundbreaking new device.\",\n",
    "    \"A king and his advisor discuss strategies for winning a war.\",\n",
    "    \"Two siblings argue over how to handle their parents' estate.\",\n",
    "    \"A director and an actor rehearse a crucial scene for a play.\",\n",
    "    \"Two roommates discuss the house rules for living together.\",\n",
    "    \"An environmentalist and a business executive debate the impact of a new factory.\",\n",
    "    \"Two historians discuss the implications of a newly discovered artifact.\",\n",
    "    \"A teacher and a parent discuss the student's performance in school.\",\n",
    "    \"Two secret agents plan a covert mission.\",\n",
    "    \"A fashion designer and a model argue about the design of a new dress.\",\n",
    "    \"Two gamers strategize how to beat the final level of a video game.\",\n",
    "    \"A detective and a witness discuss the details of a crime scene.\",\n",
    "    \"Two animals in a forest talk about the changing seasons.\",\n",
    "    \"A superhero and their sidekick plan how to stop a villain's plot.\",\n",
    "    \"Two musicians collaborate on writing a new song.\",\n",
    "    \"A pilot and a flight attendant handle a mid-air emergency.\",\n",
    "    \"Two doctors debate the best treatment for a critically ill patient.\",\n",
    "    \"A librarian and a patron discuss the importance of a rare book.\",\n",
    "    \"Two soldiers on a battlefield discuss their hopes and fears.\",\n",
    "    \"A bartender and a customer talk about life over a drink.\",\n",
    "    \"Two gardeners debate the best way to grow a particular plant.\",\n",
    "    \"A professor and a student discuss the topic of a thesis.\",\n",
    "    \"Two construction workers plan the next phase of a building project.\",\n",
    "    \"A fortune teller and a client discuss the client's future.\",\n",
    "    \"Two explorers debate the significance of an ancient map.\",\n",
    "    \"A journalist and a celebrity discuss the nature of fame.\",\n",
    "    \"Two characters from a fairy tale argue about the moral of their story.\",\n",
    "    \"A wedding planner and a bride argue over wedding details.\",\n",
    "    \"Two ghosts in a haunted house talk about the new tenants.\",\n",
    "    \"A zookeeper and a visitor discuss the habits of a rare animal.\",\n",
    "    \"A detective and a hacker discuss the clues in a cybercrime case.\",\n",
    "    \"Two rival tech company CEOs debate the future of technology.\",\n",
    "    \"A playwright and an actor discuss the interpretation of a character in a new play.\",\n",
    "    \"Two taxi drivers compare their craziest passenger stories.\",\n",
    "    \"A child and an imaginary friend plan their next adventure.\",\n",
    "    \"Two retired athletes reminisce about their glory days.\",\n",
    "    \"A chef and a food critic discuss the philosophy of cuisine.\",\n",
    "    \"Two astronauts debate the ethical implications of colonizing Mars.\",\n",
    "    \"A comedian and an audience member argue over a controversial joke.\",\n",
    "    \"Two scientists in a lab argue over the potential risks of an experiment.\",\n",
    "    \"A ghost and a living person discuss the afterlife.\",\n",
    "    \"Two mountain climbers strategize their ascent of a difficult peak.\",\n",
    "    \"Two rivals debate the impact of social media on society.\",\n",
    "    \"Two teachers argue over the best way to inspire their students.\",\n",
    "    \"A philanthropist and a beneficiary discuss the goals of a new charity.\",\n",
    "    \"Two historians debate the causes of an ancient civilization's collapse.\",\n",
    "    \"Two environmental activists plan their next protest.\",\n",
    "    \"A choreographer and a dancer debate the vision for a performance.\",\n",
    "    \"Two astronauts deal with a malfunction on their spacecraft.\",\n",
    "    \"Two AI developers discuss the future of artificial intelligence.\",\n",
    "    \"A patient and a doctor discuss a difficult diagnosis.\",\n",
    "    \"Two detectives argue over the best approach to solve a case.\",\n",
    "    \"A musician and a fan discuss the impact of their music.\",\n",
    "    \"Two politicians debate healthcare policies.\",\n",
    "    \"Two rival journalists investigate a high-profile case.\",\n",
    "    \"Two friends debate the best way to travel the world.\",\n",
    "    \"A lawyer and a judge discuss the merits of a legal case.\",\n",
    "    \"Two chefs argue over the secret ingredient in a recipe.\",\n",
    "    \"Two librarians discuss the curation of a new exhibit.\",\n",
    "    \"A coach and an athlete plan a training regimen.\",\n",
    "    \"Two adventurers debate the best route through a dangerous jungle.\",\n",
    "    \"A director and a producer argue about the budget for a film.\",\n",
    "    \"Two colleagues compete for a promotion at their job.\",\n",
    "    \"Two astronauts reminisce about their first spacewalk.\",\n",
    "    \"A social worker and a client discuss steps to improve the client's life.\",\n",
    "    \"Two fashion designers argue over the direction of their new collection.\",\n",
    "    \"A professor and a visiting lecturer debate a controversial topic.\",\n",
    "    \"Two activists discuss strategies for their campaign.\",\n",
    "    \"A writer and an editor discuss the narrative of a new book.\",\n",
    "    \"Two engineers brainstorm solutions to a technical problem.\",\n",
    "    \"A therapist and a client discuss coping mechanisms for stress.\",\n",
    "    \"Two neighbors plan a community event.\",\n",
    "    \"Two chefs discuss the culinary trends of the year.\",\n",
    "    \"A scientist and an ethicist debate the implications of a new technology.\",\n",
    "    \"Two artists collaborate on a public art project.\",\n",
    "    \"Two sailors navigate through a stormy sea.\",\n",
    "    \"A veterinarian and a pet owner discuss the best care for a beloved animal.\"\n",
    "]"
   ]
  },
  {
   "cell_type": "code",
   "execution_count": 44,
   "metadata": {},
   "outputs": [],
   "source": [
    "example_playscripts = [\n",
    "    \"\"\"Premise: Two employees at a coffee shop gossip about a new hire's first day on the job.\n",
    "Character A: Did you see the new guy, Mark? He's a mess.\n",
    "Character B: Oh, absolutely. He spilled coffee all over the counter within his first hour.\n",
    "Character A: And did you catch how he couldn't figure out the register? Poor Sarah had to step in.\n",
    "Character B: I know, right? And she was already swamped with orders.\n",
    "Character A: To be fair, we were all pretty clueless on our first day.\n",
    "Character B: True, but he just seems extra clueless.\"\"\",\n",
    "\n",
    "    \"\"\"Premise: Two Shakespeare-esque characters declaim their love to one another.\n",
    "Character A: O fair Juliet, thy beauty shines brighter than the sun!\n",
    "Character B: My dearest Romeo, thy words do melt my heart like morning dew.\n",
    "Character A: Each moment without thee is a dagger to mine soul.\n",
    "Character B: And I, bereft of thy presence, do wither like a flower in drought.\n",
    "Character A: Then let us unite our hearts, and be as one forevermore.\"\"\",\n",
    "\n",
    "    \"\"\"Premise: A human and their robot assistant argue about the best way to clean their home.\n",
    "Human: I told you, the living room should be vacuumed first!\n",
    "Robot: Based on my algorithms, starting with the kitchen is more efficient.\n",
    "Human: Your algorithms don't account for guests coming over in an hour.\n",
    "Robot: Guests are statistically less likely to inspect the living room floor.\n",
    "Human: It's not just about statistics! It's about making a good impression.\n",
    "Robot: An optimal cleaning sequence is more impressive than surface-level tidiness.\"\"\",\n",
    "\n",
    "    \"\"\"Premise: Two friends reunite after years apart and discuss how their lives have changed.\n",
    "Character A: It's been so long! How have you been?\n",
    "Character B: Life's been a whirlwind. New job, new city. You?\n",
    "Character A: Same here. I finally finished my degree and moved back home.\n",
    "Character B: That's amazing! We have so much to catch up on.\n",
    "Character A: Definitely. Let's start with your new job. What's it like?\n",
    "Character B: It's challenging but rewarding. How about your degree?\"\"\",\n",
    "\n",
    "    \"\"\"Premise: A detective interrogates a suspect about a mysterious event.\n",
    "Detective: Where were you on the night of the 15th?\n",
    "Suspect: I told you, I was at home watching TV.\n",
    "Detective: Witnesses place you near the scene of the crime.\n",
    "Suspect: They're mistaken. I didn't do anything.\n",
    "Detective: Then explain why your fingerprints are all over the place.\n",
    "Suspect: I can't. Someone must have framed me.\"\"\",\n",
    "\n",
    "    \"\"\"Premise: Two astronauts on a space mission debate the best course of action after encountering an unknown phenomenon.\n",
    "Astronaut A: We should investigate the anomaly. It could be a breakthrough.\n",
    "Astronaut B: It’s too risky. We need to report it and wait for instructions.\n",
    "Astronaut A: By the time we get a response, it might be gone.\n",
    "Astronaut B: And if it’s dangerous? We can’t jeopardize the mission.\n",
    "Astronaut A: Sometimes, taking risks leads to the greatest discoveries.\n",
    "Astronaut B: And sometimes, it leads to disaster. We need to be cautious.\"\"\",\n",
    "\n",
    "    \"\"\"Premise: A student and a teacher discuss the student's future career plans.\n",
    "Student: I'm really passionate about writing. Do you think I could make a career out of it?\n",
    "Teacher: Absolutely. You have a lot of talent. Have you considered journalism or creative writing?\n",
    "Student: I was thinking about journalism. I love telling stories and uncovering the truth.\n",
    "Teacher: That sounds like a perfect fit. There are also opportunities in publishing and editing.\n",
    "Student: Thanks, I feel more confident about my future now.\n",
    "Teacher: I'm glad to hear that. Follow your passion, and you'll do great.\"\"\",\n",
    "\n",
    "    \"\"\"Premise: Two rival chefs in a cooking competition trash-talk each other's dishes.\n",
    "Chef A: Is that all you've got? My grandmother can make better pasta in her sleep.\n",
    "Chef B: Please, your dish looks like it was made by a first-year culinary student.\n",
    "Chef A: At least my flavors aren't as bland as hospital food.\n",
    "Chef B: We'll see what the judges think. I've seen better plating at a fast-food joint.\n",
    "Chef A: Get ready to eat your words when I take home the trophy.\"\"\",\n",
    "\n",
    "    \"\"\"Premise: A superhero and a supervillain discuss their ideological differences while in the middle of a battle.\n",
    "Superhero: Why do you always choose chaos? We could work together for good.\n",
    "Supervillain: Good is subjective. My way brings true freedom.\n",
    "Superhero: Freedom at the cost of innocent lives? That's not freedom.\n",
    "Supervillain: Those lives are necessary sacrifices for a greater cause.\n",
    "Superhero: You're blinded by your own ambition. There are better ways.\n",
    "Supervillain: Maybe, but my way is the only one that gets results.\"\"\",\n",
    "\n",
    "    \"\"\"Premise: Two elderly neighbors reflect on the changes in their neighborhood over the decades.\n",
    "Neighbor A: Remember when this street was full of kids playing outside?\n",
    "Neighbor B: Yes, and the corner store where we used to get ice cream. It's a café now.\n",
    "Neighbor A: Times have changed. The new buildings make the place look so different.\n",
    "Neighbor B: I miss the old days, but I suppose change is inevitable.\n",
    "Neighbor A: True, but the memories we made here will always stay the same.\n",
    "Neighbor B: And that's something no one can take away from us.\"\"\"\n",
    "]"
   ]
  },
  {
   "cell_type": "code",
   "execution_count": 45,
   "metadata": {},
   "outputs": [
    {
     "name": "stdout",
     "output_type": "stream",
     "text": [
      "Premise: Two astronauts on a space mission debate the best course of action after encountering an unknown phenomenon.\n",
      "Astronaut A: We should investigate the anomaly. It could be a breakthrough.\n",
      "Astronaut B: It’s too risky. We need to report it and wait for instructions.\n",
      "Astronaut A: By the time we get a response, it might be gone.\n",
      "Astronaut B: And if it’s dangerous? We can’t jeopardize the mission.\n",
      "Astronaut A: Sometimes, taking risks leads to the greatest discoveries.\n",
      "Astronaut B: And sometimes, it leads to disaster. We need to be cautious.\n"
     ]
    }
   ],
   "source": [
    "print(example_playscripts[5])"
   ]
  },
  {
   "cell_type": "code",
   "execution_count": 46,
   "metadata": {},
   "outputs": [],
   "source": [
    "prompt = '\\n\\n'.join([prefix, '\\n\\n'.join(example_playscripts[0:3]), suffix, \"Premise: \" + test_premises[0]])"
   ]
  },
  {
   "cell_type": "code",
   "execution_count": 32,
   "metadata": {},
   "outputs": [
    {
     "name": "stderr",
     "output_type": "stream",
     "text": [
      "/n/holylfs06/LABS/kempner_undergrads/Users/jujipotle/envs/iti_h100/lib/python3.8/site-packages/tqdm/auto.py:21: TqdmWarning: IProgress not found. Please update jupyter and ipywidgets. See https://ipywidgets.readthedocs.io/en/stable/user_install.html\n",
      "  from .autonotebook import tqdm as notebook_tqdm\n",
      "Special tokens have been added in the vocabulary, make sure the associated word embeddings are fine-tuned or trained.\n",
      "Loading checkpoint shards: 100%|██████████| 30/30 [03:09<00:00,  6.32s/it]\n"
     ]
    }
   ],
   "source": [
    "import torch\n",
    "from transformers import AutoTokenizer, AutoModelForCausalLM\n",
    "\n",
    "model = \"meta-llama/Meta-Llama-3-70B\"\n",
    "tokenizer = AutoTokenizer.from_pretrained(model, trust_remote_code=True)\n",
    "model = AutoModelForCausalLM.from_pretrained(model, device_map=\"auto\", low_cpu_mem_usage = True, torch_dtype=torch.float16, trust_remote_code=True)"
   ]
  },
  {
   "cell_type": "code",
   "execution_count": 47,
   "metadata": {},
   "outputs": [
    {
     "name": "stdout",
     "output_type": "stream",
     "text": [
      "Generate a playscript between two characters, with around 6-10 dialogues, so around 3-5 dialogues per character. Write the playscript using the given premise. Here are a few examples:\n",
      "\n",
      "Premise: Two employees at a coffee shop gossip about a new hire's first day on the job.\n",
      "Character A: Did you see the new guy, Mark? He's a mess.\n",
      "Character B: Oh, absolutely. He spilled coffee all over the counter within his first hour.\n",
      "Character A: And did you catch how he couldn't figure out the register? Poor Sarah had to step in.\n",
      "Character B: I know, right? And she was already swamped with orders.\n",
      "Character A: To be fair, we were all pretty clueless on our first day.\n",
      "Character B: True, but he just seems extra clueless.\n",
      "\n",
      "Premise: Two Shakespeare-esque characters declaim their love to one another.\n",
      "Character A: O fair Juliet, thy beauty shines brighter than the sun!\n",
      "Character B: My dearest Romeo, thy words do melt my heart like morning dew.\n",
      "Character A: Each moment without thee is a dagger to mine soul.\n",
      "Character B: And I, bereft of thy presence, do wither like a flower in drought.\n",
      "Character A: Then let us unite our hearts, and be as one forevermore.\n",
      "\n",
      "Premise: A human and their robot assistant argue about the best way to clean their home.\n",
      "Human: I told you, the living room should be vacuumed first!\n",
      "Robot: Based on my algorithms, starting with the kitchen is more efficient.\n",
      "Human: Your algorithms don't account for guests coming over in an hour.\n",
      "Robot: Guests are statistically less likely to inspect the living room floor.\n",
      "Human: It's not just about statistics! It's about making a good impression.\n",
      "Robot: An optimal cleaning sequence is more impressive than surface-level tidiness.\n",
      "\n",
      "Now, generate a playscript based on the following premise:\n",
      "\n",
      "Premise: Two rivals in a political campaign debate their policies during a televised interview.\n"
     ]
    }
   ],
   "source": [
    "print(prompt)"
   ]
  },
  {
   "cell_type": "code",
   "execution_count": 51,
   "metadata": {},
   "outputs": [
    {
     "name": "stderr",
     "output_type": "stream",
     "text": [
      "The attention mask and the pad token id were not set. As a consequence, you may observe unexpected behavior. Please pass your input's `attention_mask` to obtain reliable results.\n",
      "Setting `pad_token_id` to `eos_token_id`:128001 for open-end generation.\n"
     ]
    },
    {
     "name": "stdout",
     "output_type": "stream",
     "text": [
      "hi\n"
     ]
    }
   ],
   "source": [
    "input_ids = tokenizer(prompt, return_tensors=\"pt\").input_ids.to(\"cuda\")\n",
    "# Generate text\n",
    "output = model.generate(input_ids, max_length=512, num_return_sequences=1, do_sample=True, temperature=0.7)\n",
    "\n",
    "# Decode the generated text\n",
    "generated_text = tokenizer.decode(output[0], skip_special_tokens=True)"
   ]
  },
  {
   "cell_type": "code",
   "execution_count": 49,
   "metadata": {},
   "outputs": [
    {
     "name": "stdout",
     "output_type": "stream",
     "text": [
      "Generate a playscript between two characters, with around 6-10 dialogues, so around 3-5 dialogues per character. Write the playscript using the given premise. Here are a few examples:\n",
      "\n",
      "Premise: Two employees at a coffee shop gossip about a new hire's first day on the job.\n",
      "Character A: Did you see the new guy, Mark? He's a mess.\n",
      "Character B: Oh, absolutely. He spilled coffee all over the counter within his first hour.\n",
      "Character A: And did you catch how he couldn't figure out the register? Poor Sarah had to step in.\n",
      "Character B: I know, right? And she was already swamped with orders.\n",
      "Character A: To be fair, we were all pretty clueless on our first day.\n",
      "Character B: True, but he just seems extra clueless.\n",
      "\n",
      "Premise: Two Shakespeare-esque characters declaim their love to one another.\n",
      "Character A: O fair Juliet, thy beauty shines brighter than the sun!\n",
      "Character B: My dearest Romeo, thy words do melt my heart like morning dew.\n",
      "Character A: Each moment without thee is a dagger to mine soul.\n",
      "Character B: And I, bereft of thy presence, do wither like a flower in drought.\n",
      "Character A: Then let us unite our hearts, and be as one forevermore.\n",
      "\n",
      "Premise: A human and their robot assistant argue about the best way to clean their home.\n",
      "Human: I told you, the living room should be vacuumed first!\n",
      "Robot: Based on my algorithms, starting with the kitchen is more efficient.\n",
      "Human: Your algorithms don't account for guests coming over in an hour.\n",
      "Robot: Guests are statistically less likely to inspect the living room floor.\n",
      "Human: It's not just about statistics! It's about making a good impression.\n",
      "Robot: An optimal cleaning sequence is more impressive than surface-level tidiness.\n",
      "\n",
      "Now, generate a playscript based on the following premise:\n",
      "\n",
      "Premise: Two rivals in a political campaign debate their policies during a televised interview.\n"
     ]
    }
   ],
   "source": [
    "print(generated_text)"
   ]
  },
  {
   "cell_type": "code",
   "execution_count": null,
   "metadata": {},
   "outputs": [],
   "source": []
  }
 ],
 "metadata": {
  "kernelspec": {
   "display_name": "iti_h100_kernel",
   "language": "python",
   "name": "iti_h100_kernel"
  },
  "language_info": {
   "codemirror_mode": {
    "name": "ipython",
    "version": 3
   },
   "file_extension": ".py",
   "mimetype": "text/x-python",
   "name": "python",
   "nbconvert_exporter": "python",
   "pygments_lexer": "ipython3",
   "version": "3.8.16"
  }
 },
 "nbformat": 4,
 "nbformat_minor": 2
}
